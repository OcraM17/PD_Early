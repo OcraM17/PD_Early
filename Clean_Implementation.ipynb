{
 "cells": [
  {
   "cell_type": "markdown",
   "metadata": {},
   "source": [
    "### Logistic regression Final Model"
   ]
  },
  {
   "cell_type": "markdown",
   "metadata": {},
   "source": [
    "####  $$\\Theta=[\\theta_0...\\theta_6]$$\n",
    "#### $$\\hat p=\\sigma({-X^T\\Theta})=\\frac{1}{1+exp(-X^T\\Theta)} $$\n",
    "#### 1. intercept θ0: -0.40939392\n",
    "#### 2. ∆MDS-UPDRS 3 θ1: 0.69060146\n",
    "#### 3. ∆Axial 1 θ2: 0.19562998\n",
    "#### 4. ∆Tremor θ3: 0.34653553\n",
    "#### 5. ∆Limb Rigidity θ4: 0.085848\n",
    "#### 6. ∆Common daily activities θ5: 0.16140227 \n",
    "#### 7. ∆Bulbar θ6: 0.58873592"
   ]
  },
  {
   "cell_type": "code",
   "execution_count": null,
   "metadata": {},
   "outputs": [],
   "source": [
    "from sklearn.linear_model import LogisticRegression\n",
    "model=LogisticRegression(penalty='none')\n",
    "model.coef_=np.array([0.69060146,0.19562998,0.34653553, 0.085848,0.16140227,0.58873592]).reshape(1,-1)\n",
    "model.intercept_=np.array(-0.40939392).reshape(1,1)\n",
    "model.classes_=np.array([0,1])"
   ]
  },
  {
   "cell_type": "markdown",
   "metadata": {},
   "source": [
    "### Baseline Variables: These are the features from the baseline data. The last column is the class (1 early progressor, 0 non-early progressor) and is based on the difference in terms of MDS-UPDRS part  between the baseline and the fourth year. The column 'Diff_BL_1yr' is the difference between the baseline and 1yr of the sum of MDS_UPDRS part 3."
   ]
  },
  {
   "cell_type": "code",
   "execution_count": null,
   "metadata": {},
   "outputs": [],
   "source": [
    "import pandas as pd\n",
    "BL=pd.read_csv('./BL_Features.csv').drop(columns='Unnamed: 0')\n",
    "BL.info()\n",
    "BL.head()"
   ]
  },
  {
   "cell_type": "markdown",
   "metadata": {},
   "source": [
    "### 1 year Variables: These are the features from 1-year data."
   ]
  },
  {
   "cell_type": "code",
   "execution_count": null,
   "metadata": {},
   "outputs": [],
   "source": [
    "yr_1=pd.read_csv('./1_yr_Features.csv').drop(columns='Unnamed: 0')\n",
    "yr_1.info()\n",
    "yr_1.head()"
   ]
  },
  {
   "cell_type": "markdown",
   "metadata": {},
   "source": [
    "### To combine the 2 files merge on PATNO and drop the missing values"
   ]
  },
  {
   "cell_type": "code",
   "execution_count": null,
   "metadata": {},
   "outputs": [],
   "source": [
    "x=BL.merge(yr_1,on='PATNO',how='left')"
   ]
  },
  {
   "cell_type": "code",
   "execution_count": null,
   "metadata": {},
   "outputs": [],
   "source": [
    "x.dropna()"
   ]
  },
  {
   "cell_type": "markdown",
   "metadata": {},
   "source": []
  }
 ],
 "metadata": {
  "kernelspec": {
   "display_name": "Python 3",
   "language": "python",
   "name": "python3"
  },
  "language_info": {
   "codemirror_mode": {
    "name": "ipython",
    "version": 3
   },
   "file_extension": ".py",
   "mimetype": "text/x-python",
   "name": "python",
   "nbconvert_exporter": "python",
   "pygments_lexer": "ipython3",
   "version": "3.8.2"
  }
 },
 "nbformat": 4,
 "nbformat_minor": 4
}